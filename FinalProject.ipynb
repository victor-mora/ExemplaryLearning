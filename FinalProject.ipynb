{
  "nbformat": 4,
  "nbformat_minor": 0,
  "metadata": {
    "colab": {
      "name": "FinalProject.ipynb",
      "provenance": [],
      "collapsed_sections": [],
      "include_colab_link": true
    },
    "kernelspec": {
      "name": "python3",
      "display_name": "Python 3"
    },
    "accelerator": "GPU"
  },
  "cells": [
    {
      "cell_type": "markdown",
      "metadata": {
        "id": "view-in-github",
        "colab_type": "text"
      },
      "source": [
        "<a href=\"https://colab.research.google.com/github/victor-mora/ExemplaryLearning/blob/main/FinalProject.ipynb\" target=\"_parent\"><img src=\"https://colab.research.google.com/assets/colab-badge.svg\" alt=\"Open In Colab\"/></a>"
      ]
    },
    {
      "cell_type": "code",
      "metadata": {
        "id": "GVUJ5xbZoe7Q"
      },
      "source": [
        "import numpy as np\n",
        "import tensorflow as tf\n",
        "import tensorflow_probability as tfp\n",
        "import matplotlib.pyplot as plt\n",
        "import seaborn as sns\n",
        "from keras.utils.np_utils import to_categorical  \n",
        "import tensorflow_datasets as tfds\n",
        "import matplotlib.pyplot as plt\n",
        "import matplotlib.cm as cm\n"
      ],
      "execution_count": null,
      "outputs": []
    },
    {
      "cell_type": "code",
      "metadata": {
        "id": "5sDgOJ0xA60I"
      },
      "source": [
        "train, test = tfds.load(name='mnist',split=['train', 'test'], shuffle_files=True)\n",
        "#get all the data\n",
        "trainingimgs = []\n",
        "traininglab = []\n",
        "for i in train:\n",
        "  trainingimgs.append(i['image'])\n",
        "  traininglab.append(i['label'])\n",
        "train_imgs = tf.convert_to_tensor(trainingimgs, dtype = tf.float32)/255\n",
        "train_labels = tf.convert_to_tensor(traininglab, dtype = tf.int32)\n",
        "train_labels = to_categorical(train_labels, num_classes=10)\n",
        "\n",
        "testingimgs = []\n",
        "testinglab = []\n",
        "for i in test:\n",
        "  testingimgs.append(i['image'])\n",
        "  testinglab.append(i['label'])\n",
        "test_imgs = tf.convert_to_tensor(testingimgs, dtype = tf.float32)/255\n",
        "test_labels = tf.convert_to_tensor(testinglab)\n",
        "test_labels = to_categorical(test_labels, num_classes=10)\n"
      ],
      "execution_count": null,
      "outputs": []
    },
    {
      "cell_type": "code",
      "metadata": {
        "id": "D2iJNIuTBDlM"
      },
      "source": [
        "class Model(tf.keras.Model):\n",
        "  def __init__(self):\n",
        "    super(Model, self).__init__()\n",
        "    self.optimizer = tf.keras.optimizers.Adam(learning_rate=0.001)\n",
        "    self.batch_size = 100\n",
        "    self.initializer = tf.keras.initializers.RandomNormal(mean=0., stddev=0.1)\n",
        "    self.conv1 = tf.keras.layers.Conv2D(10,5,1,padding = 'same',kernel_initializer=self.initializer, activation='relu')\n",
        "    self.pool1 = tf.keras.layers.MaxPooling2D(pool_size=(2, 2), strides=2, padding=\"same\")\n",
        "    self.conv2 = tf.keras.layers.Conv2D(1,3,1,padding = 'same',kernel_initializer=self.initializer, activation='relu')\n",
        "    self.pool2 = tf.keras.layers.MaxPooling2D(pool_size=(2, 2), strides=2, padding=\"same\")\n",
        "    self.numproto = 20\n",
        "    self.prototypes = tf.Variable(tf.random.truncated_normal(shape=[10,self.numproto,7,7], stddev=.05, dtype=tf.float32))\n",
        "    self.gamma = 1.0 #tf.Variable(tf.random.truncated_normal(shape=(), stddev=.05, dtype=tf.float32))\n",
        "    self.lambs = 0.001 #tf.Variable(tf.random.truncated_normal(shape=(), stddev=.05, dtype=tf.float32))\n",
        "\n",
        "  def get_distance(self,inputs):\n",
        "    batch_cnn_extracts = tf.reshape(inputs, [self.batch_size,7,7])\n",
        "    classdist = []\n",
        "    for i in range(10):\n",
        "      classprotodist = []\n",
        "      for j in range(self.numproto):\n",
        "          current_prototype = self.prototypes[i,j,:]\n",
        "          difference = tf.math.reduce_sum(tf.math.square(batch_cnn_extracts - current_prototype), axis = [1,2])#should be 100x1 for batch by 1 number rep diff\n",
        "          classprotodist.append(difference)\n",
        "      classprotodist = tf.stack(classprotodist)\n",
        "      classdist.append(classprotodist)\n",
        "    return tf.stack(classdist)#should be 10x10x100x1 or 10x10x100\n",
        "  def get_min_distance(self,puredist):\n",
        "    classbestdist = -1*tf.math.reduce_min(puredist,axis = 1)\n",
        "    return classbestdist#should be 10x100x1\n",
        "\n",
        "  def classify_forward(self,mindistances):\n",
        "    labs = tf.math.argmax(mindistances,axis = 0)#should be 100x1 now\n",
        "    onehots = to_categorical(labs, num_classes=10)\n",
        "    return onehots\n",
        "\n",
        "\n",
        "  def feature_extract(self, inputs):\n",
        "    cv1 = self.conv1(inputs)\n",
        "    pool1 = self.pool1(cv1)\n",
        "    cv2 = self.conv2(pool1)\n",
        "    pool2 = self.pool2(cv2)\n",
        "    return pool2\n",
        "  def call(self,inputs):\n",
        "    pool2 = self.feature_extract(inputs)\n",
        "    return self.classify_forward(self.get_min_distance(self.get_distance(pool2)))\n",
        "\n",
        "  def loss(self, inputs, labels):\n",
        "    #implement dce + pl\n",
        "    #neg_log_likelihood = tf.nn.softmax_cross_entropy_with_logits(labels=labels, logits=logits)\n",
        "    #kl = sum(self.losses)\n",
        "    #loss = neg_log_likelihood + kl\n",
        "    pool2 = self.feature_extract(inputs)\n",
        "    plaindist = self.get_distance(pool2)\n",
        "    dists = -1 * self.gamma* plaindist\n",
        "    shape = dists.shape\n",
        "    #print(shape)\n",
        "    dists=tf.keras.backend.flatten(dists)\n",
        "    softmaxed = tf.nn.softmax(dists)\n",
        "    softmaxed = tf.reshape(softmaxed,shape)\n",
        "    #print(tf.reduce_sum(softmaxed))\n",
        "    #should be same shape as dists\n",
        "    perclass = tf.math.reduce_sum(softmaxed, axis = 1)\n",
        "    #probs = tf.reshape(perclass, [10,self.batch_size,1])#10x100x1\n",
        "    #transp = tf.transpose(perclass) #[1, 0, 2])\n",
        "    reshape2 = tf.reshape(perclass,[10,self.batch_size])#tf.reshape(transp,[self.batch_size,10])\n",
        "    #loss = tf.keras.losses.categorical_crossentropy(reshape2, labels)\n",
        "    #now get pl loss\n",
        "    bestdist = -1* self.get_min_distance(plaindist)\n",
        "    index = tf.math.argmax(labels, axis=1,output_type=tf.dtypes.int32)\n",
        "    gathers = tf.stack([index,tf.range(0, tf.shape(labels)[0])], axis=1)\n",
        "    loss = -1* tf.math.log(tf.gather_nd(reshape2,gathers))\n",
        "    result = tf.gather_nd(bestdist, gathers)\n",
        "    return tf.reduce_mean(loss + self.lambs*result)#maybe this boosts acc?\n",
        "    #return tf.reduce_mean(loss)#maybe this boosts acc?\n"
      ],
      "execution_count": null,
      "outputs": []
    },
    {
      "cell_type": "code",
      "metadata": {
        "id": "kqgoAy28x7qH"
      },
      "source": [
        "def train(model, train_inputs, train_labels):\n",
        "  num_examples = train_labels.shape[0]\n",
        "  avgloss = 0\n",
        "  counter = 0\n",
        "  for i in range(0,num_examples,model.batch_size):\n",
        "      if(i + model.batch_size < num_examples):\n",
        "          with tf.GradientTape() as tape:\n",
        "              #predictions = model(train_inputs[i:i+model.batch_size])\n",
        "              loss = model.loss(train_inputs[i:i+model.batch_size], train_labels[i:i+model.batch_size])\n",
        "              avgloss += loss#tf.reduce_mean(loss)\n",
        "              counter +=1\n",
        "          gradients = tape.gradient(loss, model.trainable_variables)\n",
        "          model.optimizer.apply_gradients(zip(gradients, model.trainable_variables))\n",
        "  print(avgloss/counter)\n",
        "def test(model, test_inputs, test_labels):\n",
        "  num_examples = test_labels.shape[0]\n",
        "  acclist = []\n",
        "  for i in range(0,num_examples,model.batch_size):\n",
        "      if(i + model.batch_size < num_examples):\n",
        "          predictions = model(test_inputs[i:i+model.batch_size])\n",
        "          truths = tf.math.multiply(predictions,test_labels[i:i+model.batch_size])\n",
        "          num_corr = tf.math.reduce_sum(truths)\n",
        "          acc = num_corr/model.batch_size\n",
        "          acclist.append(acc)\n",
        "  return acclist"
      ],
      "execution_count": null,
      "outputs": []
    },
    {
      "cell_type": "code",
      "metadata": {
        "id": "icBOuTl7yIiV",
        "colab": {
          "base_uri": "https://localhost:8080/"
        },
        "outputId": "960a4fa0-189b-4f54-8f68-2feffa9b32c1"
      },
      "source": [
        "model = Model()\n",
        "for l in range(8):\n",
        "  train(model, train_imgs,train_labels)"
      ],
      "execution_count": null,
      "outputs": [
        {
          "output_type": "stream",
          "text": [
            "tf.Tensor(6.0705013, shape=(), dtype=float32)\n",
            "tf.Tensor(5.284431, shape=(), dtype=float32)\n",
            "tf.Tensor(5.1233706, shape=(), dtype=float32)\n",
            "tf.Tensor(5.056737, shape=(), dtype=float32)\n",
            "tf.Tensor(5.0198736, shape=(), dtype=float32)\n",
            "tf.Tensor(4.9966664, shape=(), dtype=float32)\n",
            "tf.Tensor(4.9805675, shape=(), dtype=float32)\n",
            "tf.Tensor(4.9677444, shape=(), dtype=float32)\n"
          ],
          "name": "stdout"
        }
      ]
    },
    {
      "cell_type": "code",
      "metadata": {
        "id": "A8W9aXeh9EpX",
        "colab": {
          "base_uri": "https://localhost:8080/"
        },
        "outputId": "967c8ef1-00c6-463c-ec0d-6761aef3a9f3"
      },
      "source": [
        "acclist = tf.convert_to_tensor(test(model,test_imgs,test_labels))\n",
        "print(tf.math.reduce_mean(acclist))"
      ],
      "execution_count": null,
      "outputs": [
        {
          "output_type": "stream",
          "text": [
            "tf.Tensor(0.9514141, shape=(), dtype=float32)\n"
          ],
          "name": "stdout"
        }
      ]
    },
    {
      "cell_type": "code",
      "metadata": {
        "id": "Ug21khJDIdrn",
        "colab": {
          "base_uri": "https://localhost:8080/"
        },
        "outputId": "17fbaa65-9afa-4a4f-85fb-8f2cf2328e28"
      },
      "source": [
        "print(acclist)"
      ],
      "execution_count": null,
      "outputs": [
        {
          "output_type": "stream",
          "text": [
            "tf.Tensor(\n",
            "[0.94 0.93 0.95 0.96 0.99 0.94 0.98 0.94 0.94 0.92 0.93 0.94 0.96 0.93\n",
            " 0.92 0.93 0.99 0.97 0.93 0.96 0.92 0.98 0.96 0.98 0.95 0.93 0.96 0.9\n",
            " 0.96 0.94 0.92 0.91 0.95 0.96 0.96 0.93 0.94 0.94 0.96 0.89 0.96 0.95\n",
            " 0.95 0.95 0.93 0.93 0.96 0.95 0.89 0.96 0.99 0.94 0.91 0.95 0.93 0.96\n",
            " 0.96 0.94 0.91 0.93 0.95 0.98 0.96 0.91 0.96 0.95 0.94 0.93 0.92 0.95\n",
            " 0.94 0.93 0.92 0.95 0.92 0.94 0.97 0.95 0.95 0.94 0.95 0.94 0.96 0.98\n",
            " 0.97 0.91 0.9  0.92 0.95 0.91 0.94 0.96 0.93 0.95 0.92 0.96 0.93 0.95\n",
            " 0.99], shape=(99,), dtype=float32)\n"
          ],
          "name": "stdout"
        }
      ]
    },
    {
      "cell_type": "code",
      "metadata": {
        "id": "RifFGSGidyLv"
      },
      "source": [
        "#future idea, use ssim instead of meansquare, add probabilistic layers just cause for probabilistic use tfp tensorflow probability"
      ],
      "execution_count": null,
      "outputs": []
    },
    {
      "cell_type": "code",
      "metadata": {
        "id": "qTq0lBu5-dlP"
      },
      "source": [
        "class Encoder(tf.keras.layers.Layer):\n",
        "    def __init__(self):\n",
        "       super(Encoder, self).__init__()\n",
        "       self.initializer = tf.keras.initializers.RandomNormal(mean=0., stddev=0.1)\n",
        "       #self.leakyrelu = tf.keras.layers.LeakyReLU(alpha=0.2)\n",
        "       #self.encoder_conv_1 = tf.keras.layers.Conv2D(10, 3, 2, padding=\"same\", kernel_initializer=self.initial, activation=\"relu\")\n",
        "       #self.encoder_conv_2 = tf.keras.layers.Conv2D(10, 3, 2, padding=\"same\", kernel_initializer=self.initial, activation=\"relu\")\n",
        "       #self.encoder_conv_3 = tf.keras.layers.Conv2D(10, 3, 2, padding=\"same\", kernel_initializer=self.initial, activation=self.leakyrelu)\n",
        "       #alpha??\n",
        "       self.conv1 = tf.keras.layers.Conv2D(10,5,1,padding = 'same',kernel_initializer=self.initializer, activation='relu')\n",
        "       self.pool1 = tf.keras.layers.MaxPooling2D(pool_size=(2, 2), strides=2, padding=\"same\")\n",
        "       self.conv2 = tf.keras.layers.Conv2D(1,3,1,padding = 'same',kernel_initializer=self.initializer, activation='relu')\n",
        "       self.pool2 = tf.keras.layers.MaxPooling2D(pool_size=(2, 2), strides=2, padding=\"same\")\n",
        "    \n",
        "    @tf.function\n",
        "    def call(self, images):\n",
        "      #enc = self.encoder_conv_1(images)\n",
        "      #enc = tf.keras.layers.MaxPooling2D((2, 2), padding='same')(enc)\n",
        "      #enc = self.encoder_conv_2(enc)\n",
        "      #enc = tf.keras.layers.MaxPooling2D((2, 2), padding='same')(enc)\n",
        "      #enc = self.encoder_conv_3(enc)\n",
        "      enc = self.conv1(images)\n",
        "      enc = self.pool1(enc)\n",
        "      enc = self.conv2(enc)\n",
        "      enc = self.pool2(enc)\n",
        "      return enc\n",
        "\n",
        "class Decoder(tf.keras.layers.Layer):\n",
        "    def __init__(self):\n",
        "        super(Decoder, self).__init__()\n",
        "        \n",
        "        #self.L1_W = tf.Variable(tf.random.truncated_normal([4,4,10,10], stddev=.1))\n",
        "        #self.L1_b = tf.Variable(tf.random.truncated_normal(shape=[10], stddev=.1))\n",
        "\n",
        "        #self.leakyrelu = tf.keras.layers.LeakyReLU(alpha=0.2)\n",
        "        self.initial = tf.keras.initializers.RandomNormal(mean=0., stddev=0.1)\n",
        "        \n",
        "        #self.decoder_deconv_2 = tf.keras.layers.Conv2DTranspose(10, 3, 2, padding=\"same\", kernel_initializer=self.initial, activation=self.leakyrelu)\n",
        "        self.up1 = tf.keras.layers.UpSampling2D(size=(2, 2))\n",
        "        self.decoder_deconv_2 = tf.keras.layers.Conv2DTranspose(10, 3, 1, padding=\"same\", kernel_initializer=self.initial, activation=\"relu\")\n",
        "        self.up2 = tf.keras.layers.UpSampling2D(size=(2, 2))\n",
        "        self.decoder_deconv_3 = tf.keras.layers.Conv2DTranspose(1, 5, 1, padding=\"same\", kernel_initializer=self.initial, activation=\"relu\")\n",
        "        #kgkgkg + not sure if enc or dec correct\n",
        "        \n",
        "    \n",
        "        \n",
        "    \n",
        "    @tf.function\n",
        "    def call(self, encoder_output):\n",
        "        \n",
        "        batchSz = tf.shape(encoder_output)[0]\n",
        "        # TODO fill in the first layer of convolution transpose\n",
        "        # hint: use tf.stack when creating the output shape parameter\n",
        "        #       in conv2d_transpose\n",
        "        #deconv = tf.stack(tf.nn.conv2d_transpose(encoder_output, self.L1_W, (batchSz, 7, 7,10), 2, padding=\"SAME\"))\n",
        "        \n",
        "        #deconv = tf.nn.conv2d_transpose(encoder_output, self.L1_W, tf.stack([batchSz, 7, 7,10]), 2, padding=\"SAME\")\n",
        "\n",
        "        #how to use tf.stack in shape parameter?? tf.stack([tf.shape(x)[0], shape[1], shape[2], shape[3]])\n",
        "\n",
        "        #deconv = tf.add(deconv, self.L1_b)\n",
        "\n",
        "        #results = tf.nn.leaky_relu(deconv)\n",
        "        \n",
        "        # TODO rest of transposed-convolution layers\n",
        "        #de2 = self.decoder_deconv_2(results)\n",
        "        dede = self.up1(encoder_output)\n",
        "        #dede = encoder_output\n",
        "        de2 = self.decoder_deconv_2(dede)\n",
        "        dedede = self.up2(de2)\n",
        "        #dedede = de2\n",
        "        de3 = self.decoder_deconv_3(dedede)\n",
        "        \n",
        "        return de3\n",
        "\n",
        "class AutoEncoder(tf.keras.Model):\n",
        "    def __init__(self):\n",
        "        super(AutoEncoder, self).__init__()\n",
        "        self.encoder = Encoder()\n",
        "        self.decoder = Decoder()\n",
        "    \n",
        "    @tf.function\n",
        "    def call(self, images):\n",
        "       return self.decoder(self.encoder(images))\n",
        "    \n",
        "    @tf.function\n",
        "    def loss_function(self, encoded, originals):\n",
        "      encoded = tf.dtypes.cast(encoded, tf.float32)\n",
        "      originals = tf.dtypes.cast(originals, tf.float32)\n",
        "      return tf.reduce_sum(tf.math.square(encoded - originals))\n",
        "\n",
        "def autoenc_train(model, optimizer, images):\n",
        "  #corrupted = tf.reshape(noise_function(images), [-1, 28, 28, 1])\n",
        "  corrupted = tf.reshape(images, [-1, 28, 28, 1])\n",
        "  \n",
        "  with tf.GradientTape() as tape:\n",
        "    coded = model(corrupted)\n",
        "    loss = model.loss_function(coded, corrupted) #should this be images or corrupted???\n",
        "  gradients = tape.gradient(loss, model.trainable_variables)\n",
        "  optimizer.apply_gradients(zip(gradients, model.trainable_variables))\n",
        "\n",
        "def total_loss(model, images):\n",
        "  sum_loss = 0\n",
        "  corrupted = tf.reshape(images, [-1, 28, 28, 1])\n",
        "  predictions = model(corrupted)\n",
        "  sum_loss += model.loss_function(predictions, corrupted).numpy()\n",
        "  return sum_loss\n",
        "\n",
        "# This code is helper code to plot the mnist digits so you\n",
        "# can see your autoencoder in action!\n",
        "#%matplotlib inline\n",
        "#import matplotlib.pyplot as plt\n",
        "\n",
        "n_examples = 10\n",
        "batch_size = 100\n",
        "n_epochs = 5\n",
        "\n",
        "mnist = tf.keras.datasets.mnist\n",
        "\n",
        "(train_images, _),(test_images,_) = mnist.load_data()\n",
        "test_images = test_images / 255\n",
        "example_images = test_images[:n_examples]\n",
        "train_images = train_images / 255\n",
        "\n"
      ],
      "execution_count": null,
      "outputs": []
    },
    {
      "cell_type": "code",
      "metadata": {
        "id": "G6-lSwjx2_ce"
      },
      "source": [
        "autoenc = AutoEncoder()\n",
        "for p in range(8):\n",
        "  autoenc_train(autoenc, tf.keras.optimizers.Adam(learning_rate=0.01), train_imgs)"
      ],
      "execution_count": null,
      "outputs": []
    },
    {
      "cell_type": "code",
      "metadata": {
        "colab": {
          "base_uri": "https://localhost:8080/",
          "height": 265
        },
        "id": "1umr5cEfmg_f",
        "outputId": "8b304234-1819-42cc-aa6e-06a0f5a93bbf"
      },
      "source": [
        "dec = autoenc.decoder\n",
        "merp = autoenc(tf.reshape(train_imgs[0], [1, 28, 28, 1]))\n",
        "#merp = tf.reshape(train_imgs[0], [1, 28, 28, 1])\n",
        "merp = tf.reshape(merp, [28, 28])\n",
        "plt.imshow(merp)\n",
        "plt.show()"
      ],
      "execution_count": null,
      "outputs": [
        {
          "output_type": "display_data",
          "data": {
            "image/png": "[encoded data removed]",
            "text/plain": [
              "<Figure size 432x288 with 1 Axes>"
            ]
          },
          "metadata": {
            "tags": [],
            "needs_background": "light"
          }
        }
      ]
    },
    {
      "cell_type": "code",
      "metadata": {
        "id": "l6vkpENM3pLQ",
        "colab": {
          "base_uri": "https://localhost:8080/",
          "height": 1000
        },
        "outputId": "6ce1defa-7817-4346-f345-a7f01c50f39a"
      },
      "source": [
        "gathers = tf.stack([tf.range(0, 10),tf.range(0, 10)], axis=1)\n",
        "for i in range(10):\n",
        "  print(i)\n",
        "  for j in range(1):\n",
        "    #result = np.zeros([7,7])\n",
        "    #print(model.prototypes[i][j].shape)\n",
        "    proto = model.prototypes[i][j].numpy()\n",
        "    proto = tf.reshape(proto, [1, 7, 7, 1])\n",
        "    #mytest = []\n",
        "    #for k in range(10):\n",
        "      #mytest.append(proto)\n",
        "    #print(tf.shape(proto))\n",
        "    #mytest = tf.reshape(tf.stack(mytest), [1, 7, 7, 10])\n",
        "    proto = dec(proto)\n",
        "    proto = tf.reshape(proto, [28, 28])\n",
        "    plt.imshow(proto)\n",
        "    plt.show()\n",
        "\n"
      ],
      "execution_count": null,
      "outputs": [
        {
          "output_type": "stream",
          "text": [
            "0\n"
          ],
          "name": "stdout"
        },
        {
          "output_type": "display_data",
          "data": {
            "image/png": "[encoded data removed]",
            "text/plain": [
              "<Figure size 432x288 with 1 Axes>"
            ]
          },
          "metadata": {
            "tags": [],
            "needs_background": "light"
          }
        },
        {
          "output_type": "stream",
          "text": [
            "1\n"
          ],
          "name": "stdout"
        },
        {
          "output_type": "display_data",
          "data": {
            "image/png": "[encoded data removed]",
            "text/plain": [
              "<Figure size 432x288 with 1 Axes>"
            ]
          },
          "metadata": {
            "tags": [],
            "needs_background": "light"
          }
        },
        {
          "output_type": "stream",
          "text": [
            "2\n"
          ],
          "name": "stdout"
        },
        {
          "output_type": "display_data",
          "data": {
            "image/png": "[encoded data removed]",
            "text/plain": [
              "<Figure size 432x288 with 1 Axes>"
            ]
          },
          "metadata": {
            "tags": [],
            "needs_background": "light"
          }
        },
        {
          "output_type": "stream",
          "text": [
            "3\n"
          ],
          "name": "stdout"
        },
        {
          "output_type": "display_data",
          "data": {
            "image/png": "[encoded data removed]",
            "text/plain": [
              "<Figure size 432x288 with 1 Axes>"
            ]
          },
          "metadata": {
            "tags": [],
            "needs_background": "light"
          }
        },
        {
          "output_type": "stream",
          "text": [
            "4\n"
          ],
          "name": "stdout"
        },
        {
          "output_type": "display_data",
          "data": {
            "image/png": "[encoded data removed]",
            "text/plain": [
              "<Figure size 432x288 with 1 Axes>"
            ]
          },
          "metadata": {
            "tags": [],
            "needs_background": "light"
          }
        },
        {
          "output_type": "stream",
          "text": [
            "5\n"
          ],
          "name": "stdout"
        },
        {
          "output_type": "display_data",
          "data": {
            "image/png": "[encoded data removed]",
            "text/plain": [
              "<Figure size 432x288 with 1 Axes>"
            ]
          },
          "metadata": {
            "tags": [],
            "needs_background": "light"
          }
        },
        {
          "output_type": "stream",
          "text": [
            "6\n"
          ],
          "name": "stdout"
        },
        {
          "output_type": "display_data",
          "data": {
            "image/png": "[encoded data removed]",
            "text/plain": [
              "<Figure size 432x288 with 1 Axes>"
            ]
          },
          "metadata": {
            "tags": [],
            "needs_background": "light"
          }
        },
        {
          "output_type": "stream",
          "text": [
            "7\n"
          ],
          "name": "stdout"
        },
        {
          "output_type": "display_data",
          "data": {
            "image/png": "[encoded data removed]",
            "text/plain": [
              "<Figure size 432x288 with 1 Axes>"
            ]
          },
          "metadata": {
            "tags": [],
            "needs_background": "light"
          }
        },
        {
          "output_type": "stream",
          "text": [
            "8\n"
          ],
          "name": "stdout"
        },
        {
          "output_type": "display_data",
          "data": {
            "image/png": "[encoded data removed]",
            "text/plain": [
              "<Figure size 432x288 with 1 Axes>"
            ]
          },
          "metadata": {
            "tags": [],
            "needs_background": "light"
          }
        },
        {
          "output_type": "stream",
          "text": [
            "9\n"
          ],
          "name": "stdout"
        },
        {
          "output_type": "display_data",
          "data": {
            "image/png": "[encoded data removed]",
            "text/plain": [
              "<Figure size 432x288 with 1 Axes>"
            ]
          },
          "metadata": {
            "tags": [],
            "needs_background": "light"
          }
        }
      ]
    },
    {
      "cell_type": "code",
      "metadata": {
        "id": "H6e8ricc3G_4"
      },
      "source": [
        ""
      ],
      "execution_count": null,
      "outputs": []
    }
  ]
}